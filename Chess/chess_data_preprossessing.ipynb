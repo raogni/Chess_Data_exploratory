{
 "cells": [
  {
   "cell_type": "code",
   "execution_count": 1,
   "metadata": {},
   "outputs": [],
   "source": [
    "import pandas as pd\n",
    "import numpy as np\n",
    "\n",
    "import matplotlib.pyplot as plt\n",
    "\n",
    "import seaborn as sb\n",
    "from pylab import rcParams\n",
    "\n",
    "import scipy\n",
    "from scipy.stats.stats import pearsonr"
   ]
  },
  {
   "cell_type": "code",
   "execution_count": 2,
   "metadata": {},
   "outputs": [],
   "source": [
    "%matplotlib inline\n",
    "rcParams['figure.figsize'] = 15, 7\n",
    "plt.style.use('seaborn-whitegrid')"
   ]
  },
  {
   "cell_type": "markdown",
   "metadata": {},
   "source": [
    "importing the data"
   ]
  },
  {
   "cell_type": "code",
   "execution_count": 3,
   "metadata": {},
   "outputs": [
    {
     "data": {
      "text/html": [
       "<div>\n",
       "<style scoped>\n",
       "    .dataframe tbody tr th:only-of-type {\n",
       "        vertical-align: middle;\n",
       "    }\n",
       "\n",
       "    .dataframe tbody tr th {\n",
       "        vertical-align: top;\n",
       "    }\n",
       "\n",
       "    .dataframe thead th {\n",
       "        text-align: right;\n",
       "    }\n",
       "</style>\n",
       "<table border=\"1\" class=\"dataframe\">\n",
       "  <thead>\n",
       "    <tr style=\"text-align: right;\">\n",
       "      <th></th>\n",
       "      <th>id</th>\n",
       "      <th>rated</th>\n",
       "      <th>created_at</th>\n",
       "      <th>last_move_at</th>\n",
       "      <th>turns</th>\n",
       "      <th>victory_status</th>\n",
       "      <th>winner</th>\n",
       "      <th>increment_code</th>\n",
       "      <th>white_id</th>\n",
       "      <th>white_rating</th>\n",
       "      <th>black_id</th>\n",
       "      <th>black_rating</th>\n",
       "      <th>moves</th>\n",
       "      <th>opening_eco</th>\n",
       "      <th>opening_name</th>\n",
       "      <th>opening_ply</th>\n",
       "    </tr>\n",
       "  </thead>\n",
       "  <tbody>\n",
       "    <tr>\n",
       "      <th>0</th>\n",
       "      <td>TZJHLljE</td>\n",
       "      <td>False</td>\n",
       "      <td>1.504210e+12</td>\n",
       "      <td>1.504210e+12</td>\n",
       "      <td>13</td>\n",
       "      <td>outoftime</td>\n",
       "      <td>white</td>\n",
       "      <td>15+2</td>\n",
       "      <td>bourgris</td>\n",
       "      <td>1500</td>\n",
       "      <td>a-00</td>\n",
       "      <td>1191</td>\n",
       "      <td>d4 d5 c4 c6 cxd5 e6 dxe6 fxe6 Nf3 Bb4+ Nc3 Ba5...</td>\n",
       "      <td>D10</td>\n",
       "      <td>Slav Defense: Exchange Variation</td>\n",
       "      <td>5</td>\n",
       "    </tr>\n",
       "    <tr>\n",
       "      <th>1</th>\n",
       "      <td>l1NXvwaE</td>\n",
       "      <td>True</td>\n",
       "      <td>1.504130e+12</td>\n",
       "      <td>1.504130e+12</td>\n",
       "      <td>16</td>\n",
       "      <td>resign</td>\n",
       "      <td>black</td>\n",
       "      <td>5+10</td>\n",
       "      <td>a-00</td>\n",
       "      <td>1322</td>\n",
       "      <td>skinnerua</td>\n",
       "      <td>1261</td>\n",
       "      <td>d4 Nc6 e4 e5 f4 f6 dxe5 fxe5 fxe5 Nxe5 Qd4 Nc6...</td>\n",
       "      <td>B00</td>\n",
       "      <td>Nimzowitsch Defense: Kennedy Variation</td>\n",
       "      <td>4</td>\n",
       "    </tr>\n",
       "    <tr>\n",
       "      <th>2</th>\n",
       "      <td>mIICvQHh</td>\n",
       "      <td>True</td>\n",
       "      <td>1.504130e+12</td>\n",
       "      <td>1.504130e+12</td>\n",
       "      <td>61</td>\n",
       "      <td>mate</td>\n",
       "      <td>white</td>\n",
       "      <td>5+10</td>\n",
       "      <td>ischia</td>\n",
       "      <td>1496</td>\n",
       "      <td>a-00</td>\n",
       "      <td>1500</td>\n",
       "      <td>e4 e5 d3 d6 Be3 c6 Be2 b5 Nd2 a5 a4 c5 axb5 Nc...</td>\n",
       "      <td>C20</td>\n",
       "      <td>King's Pawn Game: Leonardis Variation</td>\n",
       "      <td>3</td>\n",
       "    </tr>\n",
       "    <tr>\n",
       "      <th>3</th>\n",
       "      <td>kWKvrqYL</td>\n",
       "      <td>True</td>\n",
       "      <td>1.504110e+12</td>\n",
       "      <td>1.504110e+12</td>\n",
       "      <td>61</td>\n",
       "      <td>mate</td>\n",
       "      <td>white</td>\n",
       "      <td>20+0</td>\n",
       "      <td>daniamurashov</td>\n",
       "      <td>1439</td>\n",
       "      <td>adivanov2009</td>\n",
       "      <td>1454</td>\n",
       "      <td>d4 d5 Nf3 Bf5 Nc3 Nf6 Bf4 Ng4 e3 Nc6 Be2 Qd7 O...</td>\n",
       "      <td>D02</td>\n",
       "      <td>Queen's Pawn Game: Zukertort Variation</td>\n",
       "      <td>3</td>\n",
       "    </tr>\n",
       "    <tr>\n",
       "      <th>4</th>\n",
       "      <td>9tXo1AUZ</td>\n",
       "      <td>True</td>\n",
       "      <td>1.504030e+12</td>\n",
       "      <td>1.504030e+12</td>\n",
       "      <td>95</td>\n",
       "      <td>mate</td>\n",
       "      <td>white</td>\n",
       "      <td>30+3</td>\n",
       "      <td>nik221107</td>\n",
       "      <td>1523</td>\n",
       "      <td>adivanov2009</td>\n",
       "      <td>1469</td>\n",
       "      <td>e4 e5 Nf3 d6 d4 Nc6 d5 Nb4 a3 Na6 Nc3 Be7 b4 N...</td>\n",
       "      <td>C41</td>\n",
       "      <td>Philidor Defense</td>\n",
       "      <td>5</td>\n",
       "    </tr>\n",
       "  </tbody>\n",
       "</table>\n",
       "</div>"
      ],
      "text/plain": [
       "         id  rated    created_at  last_move_at  turns victory_status winner  \\\n",
       "0  TZJHLljE  False  1.504210e+12  1.504210e+12     13      outoftime  white   \n",
       "1  l1NXvwaE   True  1.504130e+12  1.504130e+12     16         resign  black   \n",
       "2  mIICvQHh   True  1.504130e+12  1.504130e+12     61           mate  white   \n",
       "3  kWKvrqYL   True  1.504110e+12  1.504110e+12     61           mate  white   \n",
       "4  9tXo1AUZ   True  1.504030e+12  1.504030e+12     95           mate  white   \n",
       "\n",
       "  increment_code       white_id  white_rating      black_id  black_rating  \\\n",
       "0           15+2       bourgris          1500          a-00          1191   \n",
       "1           5+10           a-00          1322     skinnerua          1261   \n",
       "2           5+10         ischia          1496          a-00          1500   \n",
       "3           20+0  daniamurashov          1439  adivanov2009          1454   \n",
       "4           30+3      nik221107          1523  adivanov2009          1469   \n",
       "\n",
       "                                               moves opening_eco  \\\n",
       "0  d4 d5 c4 c6 cxd5 e6 dxe6 fxe6 Nf3 Bb4+ Nc3 Ba5...         D10   \n",
       "1  d4 Nc6 e4 e5 f4 f6 dxe5 fxe5 fxe5 Nxe5 Qd4 Nc6...         B00   \n",
       "2  e4 e5 d3 d6 Be3 c6 Be2 b5 Nd2 a5 a4 c5 axb5 Nc...         C20   \n",
       "3  d4 d5 Nf3 Bf5 Nc3 Nf6 Bf4 Ng4 e3 Nc6 Be2 Qd7 O...         D02   \n",
       "4  e4 e5 Nf3 d6 d4 Nc6 d5 Nb4 a3 Na6 Nc3 Be7 b4 N...         C41   \n",
       "\n",
       "                             opening_name  opening_ply  \n",
       "0        Slav Defense: Exchange Variation            5  \n",
       "1  Nimzowitsch Defense: Kennedy Variation            4  \n",
       "2   King's Pawn Game: Leonardis Variation            3  \n",
       "3  Queen's Pawn Game: Zukertort Variation            3  \n",
       "4                        Philidor Defense            5  "
      ]
     },
     "execution_count": 3,
     "metadata": {},
     "output_type": "execute_result"
    }
   ],
   "source": [
    "df = pd.read_csv('games.csv')\n",
    "df.head(5)"
   ]
  },
  {
   "cell_type": "markdown",
   "metadata": {},
   "source": [
    "dropping the columns: 'Start time', 'End time', 'white player ID', 'Black player ID' since they are  not relevant for our analysis from here on."
   ]
  },
  {
   "cell_type": "code",
   "execution_count": 4,
   "metadata": {},
   "outputs": [
    {
     "data": {
      "text/html": [
       "<div>\n",
       "<style scoped>\n",
       "    .dataframe tbody tr th:only-of-type {\n",
       "        vertical-align: middle;\n",
       "    }\n",
       "\n",
       "    .dataframe tbody tr th {\n",
       "        vertical-align: top;\n",
       "    }\n",
       "\n",
       "    .dataframe thead th {\n",
       "        text-align: right;\n",
       "    }\n",
       "</style>\n",
       "<table border=\"1\" class=\"dataframe\">\n",
       "  <thead>\n",
       "    <tr style=\"text-align: right;\">\n",
       "      <th></th>\n",
       "      <th>id</th>\n",
       "      <th>rated</th>\n",
       "      <th>turns</th>\n",
       "      <th>victory_status</th>\n",
       "      <th>winner</th>\n",
       "      <th>increment_code</th>\n",
       "      <th>white_rating</th>\n",
       "      <th>black_rating</th>\n",
       "      <th>moves</th>\n",
       "      <th>opening_eco</th>\n",
       "      <th>opening_name</th>\n",
       "      <th>opening_ply</th>\n",
       "    </tr>\n",
       "  </thead>\n",
       "  <tbody>\n",
       "    <tr>\n",
       "      <th>0</th>\n",
       "      <td>TZJHLljE</td>\n",
       "      <td>False</td>\n",
       "      <td>13</td>\n",
       "      <td>outoftime</td>\n",
       "      <td>white</td>\n",
       "      <td>15+2</td>\n",
       "      <td>1500</td>\n",
       "      <td>1191</td>\n",
       "      <td>d4 d5 c4 c6 cxd5 e6 dxe6 fxe6 Nf3 Bb4+ Nc3 Ba5...</td>\n",
       "      <td>D10</td>\n",
       "      <td>Slav Defense: Exchange Variation</td>\n",
       "      <td>5</td>\n",
       "    </tr>\n",
       "    <tr>\n",
       "      <th>1</th>\n",
       "      <td>l1NXvwaE</td>\n",
       "      <td>True</td>\n",
       "      <td>16</td>\n",
       "      <td>resign</td>\n",
       "      <td>black</td>\n",
       "      <td>5+10</td>\n",
       "      <td>1322</td>\n",
       "      <td>1261</td>\n",
       "      <td>d4 Nc6 e4 e5 f4 f6 dxe5 fxe5 fxe5 Nxe5 Qd4 Nc6...</td>\n",
       "      <td>B00</td>\n",
       "      <td>Nimzowitsch Defense: Kennedy Variation</td>\n",
       "      <td>4</td>\n",
       "    </tr>\n",
       "    <tr>\n",
       "      <th>2</th>\n",
       "      <td>mIICvQHh</td>\n",
       "      <td>True</td>\n",
       "      <td>61</td>\n",
       "      <td>mate</td>\n",
       "      <td>white</td>\n",
       "      <td>5+10</td>\n",
       "      <td>1496</td>\n",
       "      <td>1500</td>\n",
       "      <td>e4 e5 d3 d6 Be3 c6 Be2 b5 Nd2 a5 a4 c5 axb5 Nc...</td>\n",
       "      <td>C20</td>\n",
       "      <td>King's Pawn Game: Leonardis Variation</td>\n",
       "      <td>3</td>\n",
       "    </tr>\n",
       "    <tr>\n",
       "      <th>3</th>\n",
       "      <td>kWKvrqYL</td>\n",
       "      <td>True</td>\n",
       "      <td>61</td>\n",
       "      <td>mate</td>\n",
       "      <td>white</td>\n",
       "      <td>20+0</td>\n",
       "      <td>1439</td>\n",
       "      <td>1454</td>\n",
       "      <td>d4 d5 Nf3 Bf5 Nc3 Nf6 Bf4 Ng4 e3 Nc6 Be2 Qd7 O...</td>\n",
       "      <td>D02</td>\n",
       "      <td>Queen's Pawn Game: Zukertort Variation</td>\n",
       "      <td>3</td>\n",
       "    </tr>\n",
       "    <tr>\n",
       "      <th>4</th>\n",
       "      <td>9tXo1AUZ</td>\n",
       "      <td>True</td>\n",
       "      <td>95</td>\n",
       "      <td>mate</td>\n",
       "      <td>white</td>\n",
       "      <td>30+3</td>\n",
       "      <td>1523</td>\n",
       "      <td>1469</td>\n",
       "      <td>e4 e5 Nf3 d6 d4 Nc6 d5 Nb4 a3 Na6 Nc3 Be7 b4 N...</td>\n",
       "      <td>C41</td>\n",
       "      <td>Philidor Defense</td>\n",
       "      <td>5</td>\n",
       "    </tr>\n",
       "  </tbody>\n",
       "</table>\n",
       "</div>"
      ],
      "text/plain": [
       "         id  rated  turns victory_status winner increment_code  white_rating  \\\n",
       "0  TZJHLljE  False     13      outoftime  white           15+2          1500   \n",
       "1  l1NXvwaE   True     16         resign  black           5+10          1322   \n",
       "2  mIICvQHh   True     61           mate  white           5+10          1496   \n",
       "3  kWKvrqYL   True     61           mate  white           20+0          1439   \n",
       "4  9tXo1AUZ   True     95           mate  white           30+3          1523   \n",
       "\n",
       "   black_rating                                              moves  \\\n",
       "0          1191  d4 d5 c4 c6 cxd5 e6 dxe6 fxe6 Nf3 Bb4+ Nc3 Ba5...   \n",
       "1          1261  d4 Nc6 e4 e5 f4 f6 dxe5 fxe5 fxe5 Nxe5 Qd4 Nc6...   \n",
       "2          1500  e4 e5 d3 d6 Be3 c6 Be2 b5 Nd2 a5 a4 c5 axb5 Nc...   \n",
       "3          1454  d4 d5 Nf3 Bf5 Nc3 Nf6 Bf4 Ng4 e3 Nc6 Be2 Qd7 O...   \n",
       "4          1469  e4 e5 Nf3 d6 d4 Nc6 d5 Nb4 a3 Na6 Nc3 Be7 b4 N...   \n",
       "\n",
       "  opening_eco                            opening_name  opening_ply  \n",
       "0         D10        Slav Defense: Exchange Variation            5  \n",
       "1         B00  Nimzowitsch Defense: Kennedy Variation            4  \n",
       "2         C20   King's Pawn Game: Leonardis Variation            3  \n",
       "3         D02  Queen's Pawn Game: Zukertort Variation            3  \n",
       "4         C41                        Philidor Defense            5  "
      ]
     },
     "execution_count": 4,
     "metadata": {},
     "output_type": "execute_result"
    }
   ],
   "source": [
    "df = df.drop(columns = ['created_at', 'last_move_at', 'white_id', 'black_id'])\n",
    "df.head(5)"
   ]
  },
  {
   "cell_type": "markdown",
   "metadata": {},
   "source": [
    "Since we want to predict the winner, we are setting it as 'y' and the rest of the features as X"
   ]
  },
  {
   "cell_type": "code",
   "execution_count": 5,
   "metadata": {},
   "outputs": [],
   "source": [
    "X = df.drop(columns = ['winner'])\n",
    "y = df.winner"
   ]
  },
  {
   "cell_type": "markdown",
   "metadata": {},
   "source": [
    "Getting the number of unique values for each categorical features"
   ]
  },
  {
   "cell_type": "code",
   "execution_count": 6,
   "metadata": {},
   "outputs": [
    {
     "name": "stdout",
     "output_type": "stream",
     "text": [
      "Feature 'id' has 19113 unique categories\n",
      "Feature 'victory_status' has 4 unique categories\n",
      "Feature 'increment_code' has 400 unique categories\n",
      "Feature 'moves' has 18920 unique categories\n",
      "Feature 'opening_eco' has 365 unique categories\n",
      "Feature 'opening_name' has 1477 unique categories\n"
     ]
    }
   ],
   "source": [
    "for col_name in X.columns:\n",
    "    if X[col_name].dtype == 'object':\n",
    "        unique_cat = len(X[col_name].unique())\n",
    "        print(f\"Feature '{col_name}' has {unique_cat} unique categories\")"
   ]
  },
  {
   "cell_type": "code",
   "execution_count": 7,
   "metadata": {},
   "outputs": [
    {
     "data": {
      "text/plain": [
       "A00    1007\n",
       "C00     844\n",
       "D00     739\n",
       "B01     716\n",
       "C41     691\n",
       "       ... \n",
       "D13       1\n",
       "E35       1\n",
       "B60       1\n",
       "D82       1\n",
       "E72       1\n",
       "Name: opening_eco, Length: 365, dtype: int64"
      ]
     },
     "execution_count": 7,
     "metadata": {},
     "output_type": "execute_result"
    }
   ],
   "source": [
    "df['opening_eco'].value_counts()"
   ]
  },
  {
   "cell_type": "markdown",
   "metadata": {},
   "source": [
    "Checking fro missing Values"
   ]
  },
  {
   "cell_type": "code",
   "execution_count": 8,
   "metadata": {},
   "outputs": [
    {
     "data": {
      "text/plain": [
       "<bound method NDFrame.head of opening_ply       0\n",
       "opening_name      0\n",
       "opening_eco       0\n",
       "moves             0\n",
       "black_rating      0\n",
       "white_rating      0\n",
       "increment_code    0\n",
       "victory_status    0\n",
       "turns             0\n",
       "rated             0\n",
       "id                0\n",
       "dtype: int64>"
      ]
     },
     "execution_count": 8,
     "metadata": {},
     "output_type": "execute_result"
    }
   ],
   "source": [
    "X.isnull().sum().sort_values(ascending=False).head"
   ]
  },
  {
   "cell_type": "markdown",
   "metadata": {},
   "source": [
    "comparison of winner based on color"
   ]
  },
  {
   "cell_type": "code",
   "execution_count": 9,
   "metadata": {},
   "outputs": [
    {
     "data": {
      "text/plain": [
       "<matplotlib.axes._subplots.AxesSubplot at 0x18497d85850>"
      ]
     },
     "execution_count": 9,
     "metadata": {},
     "output_type": "execute_result"
    },
    {
     "data": {
      "image/png": "[encoded data removed]",
      "text/plain": [
       "<Figure size 1080x504 with 1 Axes>"
      ]
     },
     "metadata": {},
     "output_type": "display_data"
    }
   ],
   "source": [
    "y.value_counts().plot(kind = 'bar')"
   ]
  },
  {
   "cell_type": "code",
   "execution_count": 10,
   "metadata": {},
   "outputs": [
    {
     "data": {
      "image/png": "[encoded data removed]",
      "text/plain": [
       "<Figure size 1080x504 with 1 Axes>"
      ]
     },
     "metadata": {},
     "output_type": "display_data"
    }
   ],
   "source": [
    "X['white_rating'].plot(kind = 'hist')\n",
    "X['black_rating'].plot(kind = 'hist')\n",
    "plt.title(\"Comparison between Ratings\")\n",
    "plt.legend(loc='upper right')\n",
    "plt.xlabel('Ratings')\n",
    "plt.ylabel('Frequency')\n",
    "#plt.savefig('rating_comp.png')\n",
    "plt.show()"
   ]
  },
  {
   "cell_type": "markdown",
   "metadata": {},
   "source": [
    "For ease of classiification, let's use the Elo Scale to discritize the ratings of the players, which is as follow"
   ]
  },
  {
   "attachments": {
    "chess_rating_simplified.png": {
     "image/png": "[encoded data removed]"
    }
   },
   "cell_type": "markdown",
   "metadata": {},
   "source": [
    "![chess_rating_simplified.png](attachment:chess_rating_simplified.png)\n"
   ]
  },
  {
   "cell_type": "code",
   "execution_count": 11,
   "metadata": {},
   "outputs": [
    {
     "data": {
      "text/html": [
       "<div>\n",
       "<style scoped>\n",
       "    .dataframe tbody tr th:only-of-type {\n",
       "        vertical-align: middle;\n",
       "    }\n",
       "\n",
       "    .dataframe tbody tr th {\n",
       "        vertical-align: top;\n",
       "    }\n",
       "\n",
       "    .dataframe thead th {\n",
       "        text-align: right;\n",
       "    }\n",
       "</style>\n",
       "<table border=\"1\" class=\"dataframe\">\n",
       "  <thead>\n",
       "    <tr style=\"text-align: right;\">\n",
       "      <th></th>\n",
       "      <th>id</th>\n",
       "      <th>rated</th>\n",
       "      <th>turns</th>\n",
       "      <th>victory_status</th>\n",
       "      <th>increment_code</th>\n",
       "      <th>white_rating</th>\n",
       "      <th>black_rating</th>\n",
       "      <th>moves</th>\n",
       "      <th>opening_eco</th>\n",
       "      <th>opening_name</th>\n",
       "      <th>opening_ply</th>\n",
       "      <th>white_ratings_interval</th>\n",
       "      <th>black_ratings_interval</th>\n",
       "    </tr>\n",
       "  </thead>\n",
       "  <tbody>\n",
       "    <tr>\n",
       "      <th>0</th>\n",
       "      <td>TZJHLljE</td>\n",
       "      <td>False</td>\n",
       "      <td>13</td>\n",
       "      <td>outoftime</td>\n",
       "      <td>15+2</td>\n",
       "      <td>1500</td>\n",
       "      <td>1191</td>\n",
       "      <td>d4 d5 c4 c6 cxd5 e6 dxe6 fxe6 Nf3 Bb4+ Nc3 Ba5...</td>\n",
       "      <td>D10</td>\n",
       "      <td>Slav Defense: Exchange Variation</td>\n",
       "      <td>5</td>\n",
       "      <td>Class C</td>\n",
       "      <td>Novices</td>\n",
       "    </tr>\n",
       "    <tr>\n",
       "      <th>1</th>\n",
       "      <td>l1NXvwaE</td>\n",
       "      <td>True</td>\n",
       "      <td>16</td>\n",
       "      <td>resign</td>\n",
       "      <td>5+10</td>\n",
       "      <td>1322</td>\n",
       "      <td>1261</td>\n",
       "      <td>d4 Nc6 e4 e5 f4 f6 dxe5 fxe5 fxe5 Nxe5 Qd4 Nc6...</td>\n",
       "      <td>B00</td>\n",
       "      <td>Nimzowitsch Defense: Kennedy Variation</td>\n",
       "      <td>4</td>\n",
       "      <td>Class D</td>\n",
       "      <td>Class D</td>\n",
       "    </tr>\n",
       "    <tr>\n",
       "      <th>2</th>\n",
       "      <td>mIICvQHh</td>\n",
       "      <td>True</td>\n",
       "      <td>61</td>\n",
       "      <td>mate</td>\n",
       "      <td>5+10</td>\n",
       "      <td>1496</td>\n",
       "      <td>1500</td>\n",
       "      <td>e4 e5 d3 d6 Be3 c6 Be2 b5 Nd2 a5 a4 c5 axb5 Nc...</td>\n",
       "      <td>C20</td>\n",
       "      <td>King's Pawn Game: Leonardis Variation</td>\n",
       "      <td>3</td>\n",
       "      <td>Class C</td>\n",
       "      <td>Class C</td>\n",
       "    </tr>\n",
       "  </tbody>\n",
       "</table>\n",
       "</div>"
      ],
      "text/plain": [
       "         id  rated  turns victory_status increment_code  white_rating  \\\n",
       "0  TZJHLljE  False     13      outoftime           15+2          1500   \n",
       "1  l1NXvwaE   True     16         resign           5+10          1322   \n",
       "2  mIICvQHh   True     61           mate           5+10          1496   \n",
       "\n",
       "   black_rating                                              moves  \\\n",
       "0          1191  d4 d5 c4 c6 cxd5 e6 dxe6 fxe6 Nf3 Bb4+ Nc3 Ba5...   \n",
       "1          1261  d4 Nc6 e4 e5 f4 f6 dxe5 fxe5 fxe5 Nxe5 Qd4 Nc6...   \n",
       "2          1500  e4 e5 d3 d6 Be3 c6 Be2 b5 Nd2 a5 a4 c5 axb5 Nc...   \n",
       "\n",
       "  opening_eco                            opening_name  opening_ply  \\\n",
       "0         D10        Slav Defense: Exchange Variation            5   \n",
       "1         B00  Nimzowitsch Defense: Kennedy Variation            4   \n",
       "2         C20   King's Pawn Game: Leonardis Variation            3   \n",
       "\n",
       "  white_ratings_interval black_ratings_interval  \n",
       "0                Class C                Novices  \n",
       "1                Class D                Class D  \n",
       "2                Class C                Class C  "
      ]
     },
     "execution_count": 11,
     "metadata": {},
     "output_type": "execute_result"
    }
   ],
   "source": [
    "bins = [0, 1200, 1400, 1600, 1800, 2000, 2200, 2300, 2400, 2500, 2700, 3000]\n",
    "\n",
    "category = ['Novices', 'Class D', 'Class C', 'Class B', 'Class A', 'Expert', 'CM', 'FM', 'IM', 'GM', 'Super GM']\n",
    "\n",
    "X['white_ratings_interval'] = pd.cut(df['white_rating'], bins, labels = category)\n",
    "X['black_ratings_interval'] = pd.cut(df['black_rating'], bins, labels = category)\n",
    "X.head(3)"
   ]
  },
  {
   "cell_type": "markdown",
   "metadata": {},
   "source": [
    "### Comparing the ratings of the Black and White Players"
   ]
  },
  {
   "cell_type": "markdown",
   "metadata": {},
   "source": [
    "First let's find the frequency for each rating category by color of players"
   ]
  },
  {
   "cell_type": "code",
   "execution_count": 12,
   "metadata": {},
   "outputs": [
    {
     "name": "stdout",
     "output_type": "stream",
     "text": [
      "Rating Category Frequency of White players:\n",
      "Class C     5775\n",
      "Class B     4333\n",
      "Class D     3490\n",
      "Class A     3061\n",
      "Novices     1605\n",
      "Expert      1215\n",
      "CM           363\n",
      "FM            98\n",
      "IM            78\n",
      "GM            40\n",
      "Super GM       0\n",
      "Name: white_ratings_interval, dtype: int64\n",
      "\n",
      "\n",
      "\n",
      "Rating Category Frequency of Black players:\n",
      "Class C     5772\n",
      "Class B     4288\n",
      "Class D     3569\n",
      "Class A     2941\n",
      "Novices     1704\n",
      "Expert      1259\n",
      "CM           345\n",
      "FM           107\n",
      "IM            49\n",
      "GM            23\n",
      "Super GM       1\n",
      "Name: black_ratings_interval, dtype: int64\n"
     ]
    }
   ],
   "source": [
    "bars1 = X['white_ratings_interval'].value_counts()\n",
    "bars2 = X['black_ratings_interval'].value_counts()\n",
    "\n",
    "print('Rating Category Frequency of White players:')\n",
    "print(bars1)\n",
    "print(\"\\n\\n\")\n",
    "print('Rating Category Frequency of Black players:')\n",
    "print(bars2)"
   ]
  },
  {
   "cell_type": "code",
   "execution_count": 13,
   "metadata": {},
   "outputs": [
    {
     "data": {
      "image/png": "[encoded data removed]",
      "text/plain": [
       "<Figure size 1080x504 with 1 Axes>"
      ]
     },
     "metadata": {},
     "output_type": "display_data"
    }
   ],
   "source": [
    "X['white_ratings_interval'].value_counts().plot(kind = 'bar', label = 'White Rating category', color = 'blue' , align ='center')\n",
    "X['black_ratings_interval'].value_counts().plot(kind = 'bar', label = 'Black Rating Category', color = 'red', align = 'center')\n",
    "plt.xlabel('Elo Rating - Category ')\n",
    "plt.ylabel('Frequency')\n",
    "plt.title('Comparison of the Ratings of Black and White')\n",
    "plt.legend(loc = 'upper right')\n",
    "plt.show()\n",
    "\n"
   ]
  },
  {
   "cell_type": "code",
   "execution_count": 14,
   "metadata": {},
   "outputs": [
    {
     "data": {
      "text/plain": [
       "([<matplotlib.axis.XTick at 0x18498689730>,\n",
       "  <matplotlib.axis.XTick at 0x18498689790>,\n",
       "  <matplotlib.axis.XTick at 0x184986bbb20>,\n",
       "  <matplotlib.axis.XTick at 0x18498661c10>,\n",
       "  <matplotlib.axis.XTick at 0x1849872a160>,\n",
       "  <matplotlib.axis.XTick at 0x1849872a670>,\n",
       "  <matplotlib.axis.XTick at 0x1849872ab80>,\n",
       "  <matplotlib.axis.XTick at 0x18498661970>,\n",
       "  <matplotlib.axis.XTick at 0x1849872a250>,\n",
       "  <matplotlib.axis.XTick at 0x18498730430>,\n",
       "  <matplotlib.axis.XTick at 0x18498730940>],\n",
       " [Text(0, 0, 'Class C'),\n",
       "  Text(0, 0, 'Class B'),\n",
       "  Text(0, 0, 'Class D'),\n",
       "  Text(0, 0, 'Class A'),\n",
       "  Text(0, 0, 'Novices'),\n",
       "  Text(0, 0, 'Expert'),\n",
       "  Text(0, 0, 'CM'),\n",
       "  Text(0, 0, 'FM'),\n",
       "  Text(0, 0, 'IM'),\n",
       "  Text(0, 0, 'GM'),\n",
       "  Text(0, 0, 'super GM')])"
      ]
     },
     "execution_count": 14,
     "metadata": {},
     "output_type": "execute_result"
    },
    {
     "data": {
      "image/png": "[encoded data removed]",
      "text/plain": [
       "<Figure size 1080x504 with 1 Axes>"
      ]
     },
     "metadata": {},
     "output_type": "display_data"
    }
   ],
   "source": [
    "w = 0.25\n",
    "rp1 = np.arange(len(bars1))\n",
    "rp2 = [x + w for x in rp1]\n",
    "\n",
    "plt.bar(rp1, bars1, color='blue', width=w, edgecolor='white', label='White Rating category')\n",
    "plt.bar(rp2, bars2, color='red', width=w, edgecolor='white', label='Black Rating Category')\n",
    "plt.legend(loc = 'upper right')\n",
    "\n",
    "plt.xlabel('group', fontweight='bold')\n",
    "plt.xticks([r + w for r in range(len(bars1))], ['Class C', 'Class B', 'Class D', 'Class A', 'Novices', 'Expert', 'CM', 'FM', 'IM', 'GM', 'super GM'])\n",
    "\n"
   ]
  },
  {
   "cell_type": "code",
   "execution_count": 15,
   "metadata": {},
   "outputs": [
    {
     "name": "stdout",
     "output_type": "stream",
     "text": [
      "Number of white player that won:  10001\n",
      "Number of Black player that won:  9107\n",
      "Number of drawn game:  950\n"
     ]
    }
   ],
   "source": [
    "x1 = df[df['winner']=='white'].shape[0]\n",
    "x2 = df[df['winner']=='black'].shape[0]\n",
    "x3 = df[df['winner']=='draw'].shape[0]\n",
    "print(\"Number of white player that won: \", x1)\n",
    "print(\"Number of Black player that won: \", x2)\n",
    "print(\"Number of drawn game: \", x3)"
   ]
  },
  {
   "cell_type": "code",
   "execution_count": 16,
   "metadata": {},
   "outputs": [
    {
     "name": "stdout",
     "output_type": "stream",
     "text": [
      "Number of games where the white player rated higher than the black player:  10184\n",
      "Number of games where the Black player rated higher than the white player:  9671\n",
      "Number of games where both players are of the same ratings:  203\n"
     ]
    }
   ],
   "source": [
    "#Number of white player rated higher than the black player\n",
    "x1 = df[df['white_rating'] > df['black_rating']].shape[0]\n",
    "\n",
    "#number of black player rated higher than the white player\n",
    "x2 = df[df['white_rating'] < df['black_rating']].shape[0]\n",
    "\n",
    "#number of equal rating\n",
    "x3 = df[df['white_rating'] == df['black_rating']].shape[0]\n",
    "\n",
    "\n",
    "print(\"Number of games where the white player rated higher than the black player: \", x1)\n",
    "print(\"Number of games where the Black player rated higher than the white player: \", x2)\n",
    "print(\"Number of games where both players are of the same ratings: \", x3)"
   ]
  },
  {
   "cell_type": "code",
   "execution_count": 17,
   "metadata": {
    "scrolled": true
   },
   "outputs": [
    {
     "name": "stdout",
     "output_type": "stream",
     "text": [
      "Number of games where the white player won given white player is rated higher:  6529\n",
      "Number of games where the white player won given black player is rated higher:  3377\n",
      "Number of games where the white player won given both players are of the same ratings:  95\n"
     ]
    }
   ],
   "source": [
    "temp = df[df['winner']=='white']\n",
    "x1 = temp[temp['white_rating'] > temp['black_rating']].shape[0]\n",
    "x2 = temp[temp['white_rating'] < temp['black_rating']].shape[0]\n",
    "x3 = temp[temp['white_rating'] == temp['black_rating']].shape[0]\n",
    "\n",
    "print(\"Number of games where the white player won given white player is rated higher: \", x1)\n",
    "print(\"Number of games where the white player won given black player is rated higher: \", x2)\n",
    "print(\"Number of games where the white player won given both players are of the same ratings: \", x3)"
   ]
  },
  {
   "cell_type": "code",
   "execution_count": 18,
   "metadata": {},
   "outputs": [
    {
     "name": "stdout",
     "output_type": "stream",
     "text": [
      "Number of games where the black player won given white player is rated higher:  3189\n",
      "Number of games where the black player won given black player is rated higher:  5823\n",
      "Number of games where the black player won given both players are of the same ratings:  95\n"
     ]
    }
   ],
   "source": [
    "temp = df[df['winner']=='black']\n",
    "x1 = temp[temp['white_rating'] > temp['black_rating']].shape[0]\n",
    "x2 = temp[temp['white_rating'] < temp['black_rating']].shape[0]\n",
    "x3 = temp[temp['white_rating'] == temp['black_rating']].shape[0]\n",
    "\n",
    "print(\"Number of games where the black player won given white player is rated higher: \", x1)\n",
    "print(\"Number of games where the black player won given black player is rated higher: \", x2)\n",
    "print(\"Number of games where the black player won given both players are of the same ratings: \", x3)"
   ]
  },
  {
   "cell_type": "code",
   "execution_count": 19,
   "metadata": {},
   "outputs": [
    {
     "name": "stdout",
     "output_type": "stream",
     "text": [
      "Number of games that ended in a draw given white player is rated higher:  466\n",
      "Number of games that ended in a draw given black player is rated higher:  471\n",
      "Number of games that ended in a draw given both players are of the same ratings:  13\n"
     ]
    }
   ],
   "source": [
    "temp = df[df['winner']=='draw']\n",
    "x1 = temp[temp['white_rating'] > temp['black_rating']].shape[0]\n",
    "x2 = temp[temp['white_rating'] < temp['black_rating']].shape[0]\n",
    "x3 = temp[temp['white_rating'] == temp['black_rating']].shape[0]\n",
    "\n",
    "print(\"Number of games that ended in a draw given white player is rated higher: \", x1)\n",
    "print(\"Number of games that ended in a draw given black player is rated higher: \", x2)\n",
    "print(\"Number of games that ended in a draw given both players are of the same ratings: \", x3)"
   ]
  },
  {
   "cell_type": "markdown",
   "metadata": {},
   "source": [
    "### Summary"
   ]
  },
  {
   "cell_type": "code",
   "execution_count": 20,
   "metadata": {},
   "outputs": [
    {
     "data": {
      "image/png": "[encoded data removed]",
      "text/plain": [
       "<IPython.core.display.Image object>"
      ]
     },
     "execution_count": 20,
     "metadata": {},
     "output_type": "execute_result"
    }
   ],
   "source": [
    "from IPython.display import Image\n",
    "Image(filename = 'rating_color_summary.PNG')"
   ]
  },
  {
   "cell_type": "markdown",
   "metadata": {},
   "source": [
    "Checking for favorable openning for each player"
   ]
  },
  {
   "cell_type": "code",
   "execution_count": 21,
   "metadata": {},
   "outputs": [
    {
     "data": {
      "text/plain": [
       "winner  opening_eco\n",
       "black   A00            570\n",
       "        C00            389\n",
       "        D00            360\n",
       "        C20            355\n",
       "        B01            332\n",
       "                      ... \n",
       "white   E68              1\n",
       "        E87              1\n",
       "        E92              1\n",
       "        E95              1\n",
       "        E97              1\n",
       "Name: opening_eco, Length: 828, dtype: int64"
      ]
     },
     "execution_count": 21,
     "metadata": {},
     "output_type": "execute_result"
    }
   ],
   "source": [
    "a = df.groupby('winner').opening_eco.value_counts()\n",
    "a"
   ]
  },
  {
   "cell_type": "code",
   "execution_count": 22,
   "metadata": {},
   "outputs": [
    {
     "name": "stdout",
     "output_type": "stream",
     "text": [
      "top 10 most successful opening by the white player: \n",
      "C00    417\n",
      "A00    398\n",
      "C41    396\n",
      "B00    365\n",
      "B01    358\n",
      "D00    341\n",
      "A40    338\n",
      "C20    299\n",
      "C40    266\n",
      "C50    240\n",
      "B20    223\n",
      "D02    222\n",
      "C44    195\n",
      "C42    179\n",
      "B07    169\n",
      "C55    165\n",
      "A04    156\n",
      "C46    149\n",
      "C45    143\n",
      "C02    132\n",
      "Name: opening_eco, dtype: int64\n",
      "\n",
      "\n",
      "top 10 most successful opening by the black player: \n",
      "A00    570\n",
      "C00    389\n",
      "D00    360\n",
      "C20    355\n",
      "B01    332\n",
      "B20    320\n",
      "C50    268\n",
      "C41    267\n",
      "A40    261\n",
      "B00    218\n",
      "D02    193\n",
      "C44    174\n",
      "C40    167\n",
      "C42    135\n",
      "A45    134\n",
      "C55    131\n",
      "C02    131\n",
      "C45    128\n",
      "B30    123\n",
      "B07    117\n",
      "Name: opening_eco, dtype: int64\n"
     ]
    }
   ],
   "source": [
    "a1 = df[df['winner'] == 'white']['opening_eco'].value_counts()\n",
    "a2 = df[df['winner'] == 'black']['opening_eco'].value_counts()\n",
    "\n",
    "print(\"top 10 most successful opening by the white player: \")\n",
    "print(a1.head(20))\n",
    "print(\"\\n\")\n",
    "print(\"top 10 most successful opening by the black player: \")\n",
    "print(a2.head(20))\n"
   ]
  },
  {
   "cell_type": "code",
   "execution_count": 23,
   "metadata": {},
   "outputs": [
    {
     "name": "stdout",
     "output_type": "stream",
     "text": [
      "top 10 most successful opening by the white player when white player is rated higher: \n",
      "C00    278\n",
      "C41    275\n",
      "B00    261\n",
      "A40    249\n",
      "A00    248\n",
      "B01    237\n",
      "D00    224\n",
      "C40    184\n",
      "C20    175\n",
      "C50    159\n",
      "Name: opening_eco, dtype: int64\n",
      "\n",
      "\n",
      "top 10 most successful opening by the white player when black player is rated higher: \n",
      "A00    149\n",
      "C00    136\n",
      "B01    117\n",
      "C20    116\n",
      "C41    116\n",
      "D00    111\n",
      "B20    105\n",
      "B00     99\n",
      "A40     87\n",
      "C40     80\n",
      "Name: opening_eco, dtype: int64\n",
      "\n",
      "\n",
      "top 10 most successful opening by the white player when both have the same ratings: \n",
      "C20    8\n",
      "D00    6\n",
      "B00    5\n",
      "C41    5\n",
      "B01    4\n",
      "C50    4\n",
      "C44    4\n",
      "B20    4\n",
      "C00    3\n",
      "C30    3\n",
      "Name: opening_eco, dtype: int64\n"
     ]
    }
   ],
   "source": [
    "a1 = df[df['winner'] == 'white']\n",
    "a1 = a1[a1['white_rating'] > a1['black_rating']].opening_eco.value_counts()\n",
    "\n",
    "a2 = df[df['winner'] == 'white']\n",
    "a2 = a2[a2['white_rating'] < a2['black_rating']].opening_eco.value_counts()\n",
    "\n",
    "a3 = df[df['winner'] == 'white']\n",
    "a3 = a3[a3['white_rating'] == a3['black_rating']].opening_eco.value_counts()\n",
    "\n",
    "\n",
    "print(\"top 10 most successful opening by the white player when white player is rated higher: \")\n",
    "print(a1.head(10))\n",
    "print(\"\\n\")\n",
    "print(\"top 10 most successful opening by the white player when black player is rated higher: \")\n",
    "print(a2.head(10))\n",
    "print(\"\\n\")\n",
    "print(\"top 10 most successful opening by the white player when both have the same ratings: \")\n",
    "print(a3.head(10))"
   ]
  },
  {
   "cell_type": "code",
   "execution_count": 24,
   "metadata": {},
   "outputs": [
    {
     "name": "stdout",
     "output_type": "stream",
     "text": [
      "top 10 most successful opening by the black player when white player is rated higher: \n",
      "C00    144\n",
      "A00    132\n",
      "B01    115\n",
      "D00    113\n",
      "A40    106\n",
      "C20    105\n",
      "C41    104\n",
      "C50     98\n",
      "B00     95\n",
      "C44     87\n",
      "Name: opening_eco, dtype: int64\n",
      "\n",
      "\n",
      "top 10 most successful opening by the black player when black player is rated higher: \n",
      "A00    430\n",
      "D00    247\n",
      "C20    244\n",
      "C00    241\n",
      "B20    229\n",
      "B01    211\n",
      "C50    167\n",
      "C41    159\n",
      "A40    152\n",
      "B00    120\n",
      "Name: opening_eco, dtype: int64\n",
      "\n",
      "\n",
      "top 10 most successful opening by the black player when both have the same ratings: \n",
      "A00    8\n",
      "B20    6\n",
      "C20    6\n",
      "B01    6\n",
      "C02    5\n",
      "C00    4\n",
      "C41    4\n",
      "C50    3\n",
      "B00    3\n",
      "C23    3\n",
      "Name: opening_eco, dtype: int64\n"
     ]
    }
   ],
   "source": [
    "a1 = df[df['winner'] == 'black']\n",
    "a1 = a1[a1['white_rating'] > a1['black_rating']].opening_eco.value_counts()\n",
    "\n",
    "a2 = df[df['winner'] == 'black']\n",
    "a2 = a2[a2['white_rating'] < a2['black_rating']].opening_eco.value_counts()\n",
    "\n",
    "a3 = df[df['winner'] == 'black']\n",
    "a3 = a3[a3['white_rating'] == a3['black_rating']].opening_eco.value_counts()\n",
    "\n",
    "\n",
    "print(\"top 10 most successful opening by the black player when white player is rated higher: \")\n",
    "print(a1.head(10))\n",
    "print(\"\\n\")\n",
    "print(\"top 10 most successful opening by the black player when black player is rated higher: \")\n",
    "print(a2.head(10))\n",
    "print(\"\\n\")\n",
    "print(\"top 10 most successful opening by the black player when both have the same ratings: \")\n",
    "print(a3.head(10))"
   ]
  },
  {
   "cell_type": "code",
   "execution_count": 25,
   "metadata": {},
   "outputs": [
    {
     "data": {
      "text/html": [
       "<div>\n",
       "<style scoped>\n",
       "    .dataframe tbody tr th:only-of-type {\n",
       "        vertical-align: middle;\n",
       "    }\n",
       "\n",
       "    .dataframe tbody tr th {\n",
       "        vertical-align: top;\n",
       "    }\n",
       "\n",
       "    .dataframe thead th {\n",
       "        text-align: right;\n",
       "    }\n",
       "</style>\n",
       "<table border=\"1\" class=\"dataframe\">\n",
       "  <thead>\n",
       "    <tr style=\"text-align: right;\">\n",
       "      <th></th>\n",
       "      <th>white_rating</th>\n",
       "      <th>black_rating</th>\n",
       "      <th>white_ratings_interval</th>\n",
       "      <th>black_ratings_interval</th>\n",
       "      <th>rating_difference</th>\n",
       "      <th>higher</th>\n",
       "    </tr>\n",
       "  </thead>\n",
       "  <tbody>\n",
       "    <tr>\n",
       "      <th>0</th>\n",
       "      <td>1500</td>\n",
       "      <td>1191</td>\n",
       "      <td>Class C</td>\n",
       "      <td>Novices</td>\n",
       "      <td>309</td>\n",
       "      <td>white</td>\n",
       "    </tr>\n",
       "    <tr>\n",
       "      <th>5</th>\n",
       "      <td>1250</td>\n",
       "      <td>1002</td>\n",
       "      <td>Class D</td>\n",
       "      <td>Novices</td>\n",
       "      <td>248</td>\n",
       "      <td>white</td>\n",
       "    </tr>\n",
       "    <tr>\n",
       "      <th>7</th>\n",
       "      <td>1413</td>\n",
       "      <td>2108</td>\n",
       "      <td>Class C</td>\n",
       "      <td>Expert</td>\n",
       "      <td>695</td>\n",
       "      <td>black</td>\n",
       "    </tr>\n",
       "    <tr>\n",
       "      <th>8</th>\n",
       "      <td>1439</td>\n",
       "      <td>1392</td>\n",
       "      <td>Class C</td>\n",
       "      <td>Class D</td>\n",
       "      <td>47</td>\n",
       "      <td>white</td>\n",
       "    </tr>\n",
       "    <tr>\n",
       "      <th>11</th>\n",
       "      <td>1381</td>\n",
       "      <td>1867</td>\n",
       "      <td>Class D</td>\n",
       "      <td>Class A</td>\n",
       "      <td>486</td>\n",
       "      <td>black</td>\n",
       "    </tr>\n",
       "  </tbody>\n",
       "</table>\n",
       "</div>"
      ],
      "text/plain": [
       "    white_rating  black_rating white_ratings_interval black_ratings_interval  \\\n",
       "0           1500          1191                Class C                Novices   \n",
       "5           1250          1002                Class D                Novices   \n",
       "7           1413          2108                Class C                 Expert   \n",
       "8           1439          1392                Class C                Class D   \n",
       "11          1381          1867                Class D                Class A   \n",
       "\n",
       "    rating_difference higher  \n",
       "0                 309  white  \n",
       "5                 248  white  \n",
       "7                 695  black  \n",
       "8                  47  white  \n",
       "11                486  black  "
      ]
     },
     "execution_count": 25,
     "metadata": {},
     "output_type": "execute_result"
    }
   ],
   "source": [
    "temp = df.copy()\n",
    "l1 = ['white' if temp ['white_rating'][i]>temp ['black_rating'][i] else 'black' for i in range(temp.shape[0])]\n",
    "l2 = [abs(temp ['white_rating'][i] - temp['black_rating'][i]) for i in range(temp.shape[0])]\n",
    "temp['black_ratings_interval'] = X['black_ratings_interval']\n",
    "temp['white_ratings_interval'] = X['white_ratings_interval']\n",
    "temp ['higher'] = l1\n",
    "temp['rating_difference'] = l2\n",
    "temp = temp[temp['black_ratings_interval']!=temp['white_ratings_interval']]\n",
    "diff_df = temp[['white_rating', 'black_rating', 'white_ratings_interval','black_ratings_interval', 'rating_difference',  'higher']].copy()\n",
    "\n",
    "\n",
    "diff_df.head(5)"
   ]
  },
  {
   "cell_type": "code",
   "execution_count": 26,
   "metadata": {},
   "outputs": [
    {
     "data": {
      "text/plain": [
       "108     60\n",
       "166     53\n",
       "189     50\n",
       "130     48\n",
       "213     46\n",
       "        ..\n",
       "571      1\n",
       "3        1\n",
       "1090     1\n",
       "970      1\n",
       "1499     1\n",
       "Name: rating_difference, Length: 891, dtype: int64"
      ]
     },
     "execution_count": 26,
     "metadata": {},
     "output_type": "execute_result"
    }
   ],
   "source": [
    "diff_df['rating_difference'].value_counts()"
   ]
  },
  {
   "cell_type": "code",
   "execution_count": 27,
   "metadata": {},
   "outputs": [
    {
     "data": {
      "text/html": [
       "<div>\n",
       "<style scoped>\n",
       "    .dataframe tbody tr th:only-of-type {\n",
       "        vertical-align: middle;\n",
       "    }\n",
       "\n",
       "    .dataframe tbody tr th {\n",
       "        vertical-align: top;\n",
       "    }\n",
       "\n",
       "    .dataframe thead th {\n",
       "        text-align: right;\n",
       "    }\n",
       "</style>\n",
       "<table border=\"1\" class=\"dataframe\">\n",
       "  <thead>\n",
       "    <tr style=\"text-align: right;\">\n",
       "      <th></th>\n",
       "      <th>white_rating</th>\n",
       "      <th>black_rating</th>\n",
       "      <th>white_ratings_interval</th>\n",
       "      <th>black_ratings_interval</th>\n",
       "      <th>rating_difference</th>\n",
       "      <th>higher</th>\n",
       "      <th>rating_difference_interval</th>\n",
       "      <th>winner</th>\n",
       "    </tr>\n",
       "  </thead>\n",
       "  <tbody>\n",
       "    <tr>\n",
       "      <th>0</th>\n",
       "      <td>1500</td>\n",
       "      <td>1191</td>\n",
       "      <td>Class C</td>\n",
       "      <td>Novices</td>\n",
       "      <td>309</td>\n",
       "      <td>white</td>\n",
       "      <td>300-350</td>\n",
       "      <td>white</td>\n",
       "    </tr>\n",
       "    <tr>\n",
       "      <th>5</th>\n",
       "      <td>1250</td>\n",
       "      <td>1002</td>\n",
       "      <td>Class D</td>\n",
       "      <td>Novices</td>\n",
       "      <td>248</td>\n",
       "      <td>white</td>\n",
       "      <td>200-250</td>\n",
       "      <td>draw</td>\n",
       "    </tr>\n",
       "    <tr>\n",
       "      <th>7</th>\n",
       "      <td>1413</td>\n",
       "      <td>2108</td>\n",
       "      <td>Class C</td>\n",
       "      <td>Expert</td>\n",
       "      <td>695</td>\n",
       "      <td>black</td>\n",
       "      <td>650-700</td>\n",
       "      <td>black</td>\n",
       "    </tr>\n",
       "    <tr>\n",
       "      <th>8</th>\n",
       "      <td>1439</td>\n",
       "      <td>1392</td>\n",
       "      <td>Class C</td>\n",
       "      <td>Class D</td>\n",
       "      <td>47</td>\n",
       "      <td>white</td>\n",
       "      <td>0-50</td>\n",
       "      <td>black</td>\n",
       "    </tr>\n",
       "    <tr>\n",
       "      <th>11</th>\n",
       "      <td>1381</td>\n",
       "      <td>1867</td>\n",
       "      <td>Class D</td>\n",
       "      <td>Class A</td>\n",
       "      <td>486</td>\n",
       "      <td>black</td>\n",
       "      <td>450-500</td>\n",
       "      <td>black</td>\n",
       "    </tr>\n",
       "    <tr>\n",
       "      <th>...</th>\n",
       "      <td>...</td>\n",
       "      <td>...</td>\n",
       "      <td>...</td>\n",
       "      <td>...</td>\n",
       "      <td>...</td>\n",
       "      <td>...</td>\n",
       "      <td>...</td>\n",
       "      <td>...</td>\n",
       "    </tr>\n",
       "    <tr>\n",
       "      <th>20042</th>\n",
       "      <td>1759</td>\n",
       "      <td>1265</td>\n",
       "      <td>Class B</td>\n",
       "      <td>Class D</td>\n",
       "      <td>494</td>\n",
       "      <td>white</td>\n",
       "      <td>450-500</td>\n",
       "      <td>white</td>\n",
       "    </tr>\n",
       "    <tr>\n",
       "      <th>20044</th>\n",
       "      <td>1523</td>\n",
       "      <td>1256</td>\n",
       "      <td>Class C</td>\n",
       "      <td>Class D</td>\n",
       "      <td>267</td>\n",
       "      <td>white</td>\n",
       "      <td>250-300</td>\n",
       "      <td>white</td>\n",
       "    </tr>\n",
       "    <tr>\n",
       "      <th>20050</th>\n",
       "      <td>1243</td>\n",
       "      <td>1142</td>\n",
       "      <td>Class D</td>\n",
       "      <td>Novices</td>\n",
       "      <td>101</td>\n",
       "      <td>white</td>\n",
       "      <td>100-150</td>\n",
       "      <td>white</td>\n",
       "    </tr>\n",
       "    <tr>\n",
       "      <th>20053</th>\n",
       "      <td>1691</td>\n",
       "      <td>1220</td>\n",
       "      <td>Class B</td>\n",
       "      <td>Class D</td>\n",
       "      <td>471</td>\n",
       "      <td>white</td>\n",
       "      <td>450-500</td>\n",
       "      <td>white</td>\n",
       "    </tr>\n",
       "    <tr>\n",
       "      <th>20054</th>\n",
       "      <td>1233</td>\n",
       "      <td>1196</td>\n",
       "      <td>Class D</td>\n",
       "      <td>Novices</td>\n",
       "      <td>37</td>\n",
       "      <td>white</td>\n",
       "      <td>0-50</td>\n",
       "      <td>black</td>\n",
       "    </tr>\n",
       "  </tbody>\n",
       "</table>\n",
       "<p>11395 rows × 8 columns</p>\n",
       "</div>"
      ],
      "text/plain": [
       "       white_rating  black_rating white_ratings_interval  \\\n",
       "0              1500          1191                Class C   \n",
       "5              1250          1002                Class D   \n",
       "7              1413          2108                Class C   \n",
       "8              1439          1392                Class C   \n",
       "11             1381          1867                Class D   \n",
       "...             ...           ...                    ...   \n",
       "20042          1759          1265                Class B   \n",
       "20044          1523          1256                Class C   \n",
       "20050          1243          1142                Class D   \n",
       "20053          1691          1220                Class B   \n",
       "20054          1233          1196                Class D   \n",
       "\n",
       "      black_ratings_interval  rating_difference higher  \\\n",
       "0                    Novices                309  white   \n",
       "5                    Novices                248  white   \n",
       "7                     Expert                695  black   \n",
       "8                    Class D                 47  white   \n",
       "11                   Class A                486  black   \n",
       "...                      ...                ...    ...   \n",
       "20042                Class D                494  white   \n",
       "20044                Class D                267  white   \n",
       "20050                Novices                101  white   \n",
       "20053                Class D                471  white   \n",
       "20054                Novices                 37  white   \n",
       "\n",
       "      rating_difference_interval winner  \n",
       "0                        300-350  white  \n",
       "5                        200-250   draw  \n",
       "7                        650-700  black  \n",
       "8                           0-50  black  \n",
       "11                       450-500  black  \n",
       "...                          ...    ...  \n",
       "20042                    450-500  white  \n",
       "20044                    250-300  white  \n",
       "20050                    100-150  white  \n",
       "20053                    450-500  white  \n",
       "20054                       0-50  black  \n",
       "\n",
       "[11395 rows x 8 columns]"
      ]
     },
     "execution_count": 27,
     "metadata": {},
     "output_type": "execute_result"
    }
   ],
   "source": [
    "b = [50*i for i in range(21)]\n",
    "b.append(3000)\n",
    "c = [str(50*i)+'-'+str(50*(i+1)) for i in range(20)]\n",
    "c.append('over 1000')\n",
    "temp['rating_difference_interval'] = pd.cut(temp['rating_difference'], b, labels=c)\n",
    "\n",
    "\n",
    "diff_df['rating_difference_interval'] = temp['rating_difference_interval'].copy()\n",
    "diff_df['winner'] = temp['winner'].copy()\n",
    "diff_df"
   ]
  },
  {
   "cell_type": "code",
   "execution_count": 28,
   "metadata": {},
   "outputs": [
    {
     "data": {
      "text/plain": [
       "100-150      1693\n",
       "150-200      1617\n",
       "200-250      1486\n",
       "50-100       1269\n",
       "250-300      1132\n",
       "300-350       856\n",
       "350-400       654\n",
       "0-50          557\n",
       "400-450       511\n",
       "450-500       371\n",
       "500-550       368\n",
       "550-600       190\n",
       "600-650       173\n",
       "650-700       114\n",
       "700-750       108\n",
       "750-800        68\n",
       "800-850        67\n",
       "over 1000      62\n",
       "950-1000       46\n",
       "850-900        29\n",
       "900-950        24\n",
       "Name: rating_difference_interval, dtype: int64"
      ]
     },
     "execution_count": 28,
     "metadata": {},
     "output_type": "execute_result"
    }
   ],
   "source": [
    "diff_df['rating_difference_interval'].value_counts()"
   ]
  },
  {
   "cell_type": "code",
   "execution_count": 29,
   "metadata": {},
   "outputs": [
    {
     "data": {
      "image/png": "[encoded data removed]",
      "text/plain": [
       "<Figure size 1080x504 with 1 Axes>"
      ]
     },
     "metadata": {},
     "output_type": "display_data"
    }
   ],
   "source": [
    "plt.hist(list(diff_df[diff_df['winner']=='white']['higher']), alpha=0.5, label = 'winner is WHITE')\n",
    "plt.hist(list(diff_df[diff_df['winner']=='black']['higher']), alpha=0.5, label = 'winner is BLACK')\n",
    "plt.xlabel('Values')\n",
    "plt.ylabel('Frequency')\n",
    "plt.legend(loc='upper right')\n",
    "plt.show()"
   ]
  },
  {
   "cell_type": "code",
   "execution_count": 30,
   "metadata": {},
   "outputs": [
    {
     "data": {
      "text/plain": [
       "winner  higher  rating_difference_interval\n",
       "black   black   200-250                       524\n",
       "                150-200                       480\n",
       "                100-150                       471\n",
       "                250-300                       364\n",
       "                50-100                        330\n",
       "                300-350                       323\n",
       "                350-400                       256\n",
       "                400-450                       182\n",
       "                500-550                       147\n",
       "                450-500                       135\n",
       "                0-50                          117\n",
       "                550-600                        70\n",
       "                600-650                        66\n",
       "                650-700                        47\n",
       "                700-750                        44\n",
       "                800-850                        30\n",
       "                750-800                        26\n",
       "                over 1000                      20\n",
       "                950-1000                       18\n",
       "                850-900                        15\n",
       "                900-950                        11\n",
       "        white   100-150                       295\n",
       "                150-200                       260\n",
       "                50-100                        247\n",
       "                200-250                       165\n",
       "                0-50                          126\n",
       "                250-300                       122\n",
       "                300-350                        90\n",
       "                350-400                        54\n",
       "                400-450                        32\n",
       "                450-500                        29\n",
       "                500-550                        21\n",
       "                550-600                        14\n",
       "                650-700                        10\n",
       "                600-650                         9\n",
       "                750-800                         5\n",
       "                700-750                         4\n",
       "                900-950                         2\n",
       "                800-850                         1\n",
       "                over 1000                       1\n",
       "Name: rating_difference_interval, dtype: int64"
      ]
     },
     "execution_count": 30,
     "metadata": {},
     "output_type": "execute_result"
    }
   ],
   "source": [
    "diff_outcome=diff_df.groupby(['winner', 'higher']).rating_difference_interval.value_counts()\n",
    "diff_outcome.head(40)"
   ]
  },
  {
   "cell_type": "code",
   "execution_count": 31,
   "metadata": {},
   "outputs": [
    {
     "data": {
      "text/plain": [
       "array([ 13,   5,   9,  66,  38,  60,  31, 101,  25,  14,  17,  36,  69,\n",
       "        43,  54,  64,  21,  11,  19,  28,  22,  37,  34,  32,  71,  30,\n",
       "        41,  49,   3,   7,  35,  53,   8,  44,  40,  39,  87, 131,  48,\n",
       "        47,  57,  58,  62,  85,  75, 135,  81,  46,  70, 137,  33,  90,\n",
       "        50,  59,  23, 120,  24,  95,   2, 156,  18,  77,  65, 136, 106,\n",
       "        15, 118,  73, 159, 112, 104, 150,  88,  97,  55,  20,  42, 177,\n",
       "       114,  99,  74,  80,  72,   6,  96,  78,  27, 102,  45,  98, 108,\n",
       "        92, 123, 129, 111, 119,  10, 163,  52,  67, 130, 125, 116,  76,\n",
       "       110, 148,  29, 195,  63, 107, 122, 128,  51,  79,  26, 105, 115,\n",
       "       133, 158,  61,  86,  84,  56,  83, 100,  89,  82,  68,   4, 178,\n",
       "       153, 103,  16, 154, 113, 160,  12, 124,  94, 132, 141, 117, 127,\n",
       "       109,  93,  91,   1, 171, 145, 179, 143, 149, 140, 134, 169, 155,\n",
       "       164, 121, 138, 126, 157, 190, 146, 147, 139, 144, 176, 172, 188,\n",
       "       168, 151, 152, 184, 162, 142, 161, 189, 166, 165, 170, 175, 349,\n",
       "       173, 182, 205, 216, 174, 181, 209, 212, 180, 185, 167, 201],\n",
       "      dtype=int64)"
      ]
     },
     "execution_count": 31,
     "metadata": {},
     "output_type": "execute_result"
    }
   ],
   "source": [
    "diff_df['turns'] = df['turns'].copy()\n",
    "a = diff_df['turns'].unique()\n",
    "a"
   ]
  },
  {
   "cell_type": "code",
   "execution_count": 32,
   "metadata": {},
   "outputs": [
    {
     "data": {
      "text/html": [
       "<div>\n",
       "<style scoped>\n",
       "    .dataframe tbody tr th:only-of-type {\n",
       "        vertical-align: middle;\n",
       "    }\n",
       "\n",
       "    .dataframe tbody tr th {\n",
       "        vertical-align: top;\n",
       "    }\n",
       "\n",
       "    .dataframe thead th {\n",
       "        text-align: right;\n",
       "    }\n",
       "</style>\n",
       "<table border=\"1\" class=\"dataframe\">\n",
       "  <thead>\n",
       "    <tr style=\"text-align: right;\">\n",
       "      <th></th>\n",
       "      <th>white_rating</th>\n",
       "      <th>black_rating</th>\n",
       "      <th>white_ratings_interval</th>\n",
       "      <th>black_ratings_interval</th>\n",
       "      <th>rating_difference</th>\n",
       "      <th>higher</th>\n",
       "      <th>rating_difference_interval</th>\n",
       "      <th>winner</th>\n",
       "      <th>turns</th>\n",
       "      <th>moves_interval</th>\n",
       "    </tr>\n",
       "  </thead>\n",
       "  <tbody>\n",
       "    <tr>\n",
       "      <th>0</th>\n",
       "      <td>1500</td>\n",
       "      <td>1191</td>\n",
       "      <td>Class C</td>\n",
       "      <td>Novices</td>\n",
       "      <td>309</td>\n",
       "      <td>white</td>\n",
       "      <td>300-350</td>\n",
       "      <td>white</td>\n",
       "      <td>13</td>\n",
       "      <td>10-15</td>\n",
       "    </tr>\n",
       "    <tr>\n",
       "      <th>5</th>\n",
       "      <td>1250</td>\n",
       "      <td>1002</td>\n",
       "      <td>Class D</td>\n",
       "      <td>Novices</td>\n",
       "      <td>248</td>\n",
       "      <td>white</td>\n",
       "      <td>200-250</td>\n",
       "      <td>draw</td>\n",
       "      <td>5</td>\n",
       "      <td>0-5</td>\n",
       "    </tr>\n",
       "    <tr>\n",
       "      <th>7</th>\n",
       "      <td>1413</td>\n",
       "      <td>2108</td>\n",
       "      <td>Class C</td>\n",
       "      <td>Expert</td>\n",
       "      <td>695</td>\n",
       "      <td>black</td>\n",
       "      <td>650-700</td>\n",
       "      <td>black</td>\n",
       "      <td>9</td>\n",
       "      <td>5-10</td>\n",
       "    </tr>\n",
       "    <tr>\n",
       "      <th>8</th>\n",
       "      <td>1439</td>\n",
       "      <td>1392</td>\n",
       "      <td>Class C</td>\n",
       "      <td>Class D</td>\n",
       "      <td>47</td>\n",
       "      <td>white</td>\n",
       "      <td>0-50</td>\n",
       "      <td>black</td>\n",
       "      <td>66</td>\n",
       "      <td>65-70</td>\n",
       "    </tr>\n",
       "    <tr>\n",
       "      <th>11</th>\n",
       "      <td>1381</td>\n",
       "      <td>1867</td>\n",
       "      <td>Class D</td>\n",
       "      <td>Class A</td>\n",
       "      <td>486</td>\n",
       "      <td>black</td>\n",
       "      <td>450-500</td>\n",
       "      <td>black</td>\n",
       "      <td>38</td>\n",
       "      <td>35-40</td>\n",
       "    </tr>\n",
       "  </tbody>\n",
       "</table>\n",
       "</div>"
      ],
      "text/plain": [
       "    white_rating  black_rating white_ratings_interval black_ratings_interval  \\\n",
       "0           1500          1191                Class C                Novices   \n",
       "5           1250          1002                Class D                Novices   \n",
       "7           1413          2108                Class C                 Expert   \n",
       "8           1439          1392                Class C                Class D   \n",
       "11          1381          1867                Class D                Class A   \n",
       "\n",
       "    rating_difference higher rating_difference_interval winner  turns  \\\n",
       "0                 309  white                    300-350  white     13   \n",
       "5                 248  white                    200-250   draw      5   \n",
       "7                 695  black                    650-700  black      9   \n",
       "8                  47  white                       0-50  black     66   \n",
       "11                486  black                    450-500  black     38   \n",
       "\n",
       "   moves_interval  \n",
       "0           10-15  \n",
       "5             0-5  \n",
       "7            5-10  \n",
       "8           65-70  \n",
       "11          35-40  "
      ]
     },
     "execution_count": 32,
     "metadata": {},
     "output_type": "execute_result"
    }
   ],
   "source": [
    "l1 = [5*i for i in range(44)]\n",
    "l2 = [str(5*i)+'-'+str(5*(i+1))  for i in range(42)]\n",
    "l2.append('over 210 moves')\n",
    "\n",
    "\n",
    "diff_df['moves_interval'] = pd.cut(diff_df['turns'], l1, labels=l2)\n",
    "diff_df.head(5)"
   ]
  },
  {
   "cell_type": "markdown",
   "metadata": {},
   "source": [
    "checking the relationships between 'winner', 'higher', 'rating_difference_interval', and number fo moves interval to see if a the more the difference in rating the less move it takes to win or not?"
   ]
  },
  {
   "cell_type": "code",
   "execution_count": 33,
   "metadata": {},
   "outputs": [
    {
     "data": {
      "text/plain": [
       "winner  higher  rating_difference_interval  moves_interval\n",
       "black   black   0-50                        55-60             16\n",
       "                                            35-40             12\n",
       "                                            65-70             11\n",
       "                                            40-45              8\n",
       "                                            70-75              8\n",
       "                                            25-30              6\n",
       "                                            60-65              6\n",
       "                                            15-20              5\n",
       "                                            45-50              5\n",
       "                                            50-55              5\n",
       "                                            85-90              5\n",
       "                                            20-25              4\n",
       "                                            30-35              4\n",
       "                                            100-105            3\n",
       "                                            110-115            2\n",
       "                                            115-120            2\n",
       "                                            130-135            2\n",
       "                                            75-80              2\n",
       "                                            95-100             2\n",
       "                                            105-110            1\n",
       "                                            120-125            1\n",
       "                                            125-130            1\n",
       "                                            135-140            1\n",
       "                                            140-145            1\n",
       "                                            150-155            1\n",
       "                                            175-180            1\n",
       "                                            80-85              1\n",
       "                                            90-95              1\n",
       "                50-100                      35-40             26\n",
       "                                            55-60             26\n",
       "                                            65-70             26\n",
       "                                            40-45             22\n",
       "                                            30-35             21\n",
       "                                            50-55             21\n",
       "                                            75-80             21\n",
       "                                            45-50             18\n",
       "                                            25-30             14\n",
       "                                            60-65             14\n",
       "                                            70-75             13\n",
       "                                            15-20             12\n",
       "                                            90-95             11\n",
       "                                            105-110           10\n",
       "                                            95-100            10\n",
       "                                            20-25              9\n",
       "                                            85-90              8\n",
       "                                            115-120            7\n",
       "                                            100-105            6\n",
       "                                            5-10               6\n",
       "                                            10-15              5\n",
       "                                            80-85              5\n",
       "Name: moves_interval, dtype: int64"
      ]
     },
     "execution_count": 33,
     "metadata": {},
     "output_type": "execute_result"
    }
   ],
   "source": [
    "diff_moves = diff_df.groupby(['winner', 'higher', 'rating_difference_interval']).moves_interval.value_counts()\n",
    "diff_moves.head(50)"
   ]
  },
  {
   "cell_type": "code",
   "execution_count": 36,
   "metadata": {},
   "outputs": [
    {
     "data": {
      "text/html": [
       "<div>\n",
       "<style scoped>\n",
       "    .dataframe tbody tr th:only-of-type {\n",
       "        vertical-align: middle;\n",
       "    }\n",
       "\n",
       "    .dataframe tbody tr th {\n",
       "        vertical-align: top;\n",
       "    }\n",
       "\n",
       "    .dataframe thead th {\n",
       "        text-align: right;\n",
       "    }\n",
       "</style>\n",
       "<table border=\"1\" class=\"dataframe\">\n",
       "  <thead>\n",
       "    <tr style=\"text-align: right;\">\n",
       "      <th></th>\n",
       "      <th>white_ratings_interval</th>\n",
       "      <th>black_ratings_interval</th>\n",
       "      <th>higher</th>\n",
       "      <th>rating_difference_interval</th>\n",
       "      <th>winner</th>\n",
       "      <th>moves_interval</th>\n",
       "    </tr>\n",
       "  </thead>\n",
       "  <tbody>\n",
       "    <tr>\n",
       "      <th>0</th>\n",
       "      <td>Class C</td>\n",
       "      <td>Novices</td>\n",
       "      <td>white</td>\n",
       "      <td>300-350</td>\n",
       "      <td>white</td>\n",
       "      <td>10-15</td>\n",
       "    </tr>\n",
       "    <tr>\n",
       "      <th>5</th>\n",
       "      <td>Class D</td>\n",
       "      <td>Novices</td>\n",
       "      <td>white</td>\n",
       "      <td>200-250</td>\n",
       "      <td>draw</td>\n",
       "      <td>0-5</td>\n",
       "    </tr>\n",
       "    <tr>\n",
       "      <th>7</th>\n",
       "      <td>Class C</td>\n",
       "      <td>Expert</td>\n",
       "      <td>black</td>\n",
       "      <td>650-700</td>\n",
       "      <td>black</td>\n",
       "      <td>5-10</td>\n",
       "    </tr>\n",
       "    <tr>\n",
       "      <th>8</th>\n",
       "      <td>Class C</td>\n",
       "      <td>Class D</td>\n",
       "      <td>white</td>\n",
       "      <td>0-50</td>\n",
       "      <td>black</td>\n",
       "      <td>65-70</td>\n",
       "    </tr>\n",
       "    <tr>\n",
       "      <th>11</th>\n",
       "      <td>Class D</td>\n",
       "      <td>Class A</td>\n",
       "      <td>black</td>\n",
       "      <td>450-500</td>\n",
       "      <td>black</td>\n",
       "      <td>35-40</td>\n",
       "    </tr>\n",
       "  </tbody>\n",
       "</table>\n",
       "</div>"
      ],
      "text/plain": [
       "   white_ratings_interval black_ratings_interval higher  \\\n",
       "0                 Class C                Novices  white   \n",
       "5                 Class D                Novices  white   \n",
       "7                 Class C                 Expert  black   \n",
       "8                 Class C                Class D  white   \n",
       "11                Class D                Class A  black   \n",
       "\n",
       "   rating_difference_interval winner moves_interval  \n",
       "0                     300-350  white          10-15  \n",
       "5                     200-250   draw            0-5  \n",
       "7                     650-700  black           5-10  \n",
       "8                        0-50  black          65-70  \n",
       "11                    450-500  black          35-40  "
      ]
     },
     "execution_count": 36,
     "metadata": {},
     "output_type": "execute_result"
    }
   ],
   "source": [
    "final_df = diff_df.copy()\n",
    "final_df = final_df.drop(columns = ['white_rating', 'black_rating', 'rating_difference', 'turns'])\n",
    "final_df.head()"
   ]
  },
  {
   "cell_type": "code",
   "execution_count": 42,
   "metadata": {},
   "outputs": [
    {
     "data": {
      "text/html": [
       "<div>\n",
       "<style scoped>\n",
       "    .dataframe tbody tr th:only-of-type {\n",
       "        vertical-align: middle;\n",
       "    }\n",
       "\n",
       "    .dataframe tbody tr th {\n",
       "        vertical-align: top;\n",
       "    }\n",
       "\n",
       "    .dataframe thead th {\n",
       "        text-align: right;\n",
       "    }\n",
       "</style>\n",
       "<table border=\"1\" class=\"dataframe\">\n",
       "  <thead>\n",
       "    <tr style=\"text-align: right;\">\n",
       "      <th></th>\n",
       "      <th>white_ratings_interval</th>\n",
       "      <th>black_ratings_interval</th>\n",
       "      <th>higher</th>\n",
       "      <th>rating_difference_interval</th>\n",
       "      <th>winner</th>\n",
       "      <th>moves_interval</th>\n",
       "    </tr>\n",
       "  </thead>\n",
       "  <tbody>\n",
       "    <tr>\n",
       "      <th>0</th>\n",
       "      <td>3</td>\n",
       "      <td>9</td>\n",
       "      <td>1</td>\n",
       "      <td>5</td>\n",
       "      <td>2</td>\n",
       "      <td>10-15</td>\n",
       "    </tr>\n",
       "    <tr>\n",
       "      <th>5</th>\n",
       "      <td>4</td>\n",
       "      <td>9</td>\n",
       "      <td>1</td>\n",
       "      <td>3</td>\n",
       "      <td>1</td>\n",
       "      <td>0-5</td>\n",
       "    </tr>\n",
       "    <tr>\n",
       "      <th>7</th>\n",
       "      <td>3</td>\n",
       "      <td>5</td>\n",
       "      <td>0</td>\n",
       "      <td>13</td>\n",
       "      <td>0</td>\n",
       "      <td>5-10</td>\n",
       "    </tr>\n",
       "    <tr>\n",
       "      <th>8</th>\n",
       "      <td>3</td>\n",
       "      <td>4</td>\n",
       "      <td>1</td>\n",
       "      <td>0</td>\n",
       "      <td>0</td>\n",
       "      <td>65-70</td>\n",
       "    </tr>\n",
       "    <tr>\n",
       "      <th>11</th>\n",
       "      <td>4</td>\n",
       "      <td>1</td>\n",
       "      <td>0</td>\n",
       "      <td>8</td>\n",
       "      <td>0</td>\n",
       "      <td>35-40</td>\n",
       "    </tr>\n",
       "  </tbody>\n",
       "</table>\n",
       "</div>"
      ],
      "text/plain": [
       "    white_ratings_interval  black_ratings_interval  higher  \\\n",
       "0                        3                       9       1   \n",
       "5                        4                       9       1   \n",
       "7                        3                       5       0   \n",
       "8                        3                       4       1   \n",
       "11                       4                       1       0   \n",
       "\n",
       "    rating_difference_interval  winner moves_interval  \n",
       "0                            5       2          10-15  \n",
       "5                            3       1            0-5  \n",
       "7                           13       0           5-10  \n",
       "8                            0       0          65-70  \n",
       "11                           8       0          35-40  "
      ]
     },
     "execution_count": 42,
     "metadata": {},
     "output_type": "execute_result"
    }
   ],
   "source": [
    "from sklearn.preprocessing import LabelEncoder\n",
    "\n",
    "le = LabelEncoder()\n",
    "\n",
    "final_df['white_ratings_interval'] = le.fit_transform(final_df['white_ratings_interval'])\n",
    "final_df['black_ratings_interval'] = le.fit_transform(final_df['black_ratings_interval'])\n",
    "final_df['higher'] = le.fit_transform(final_df['higher'])\n",
    "final_df['rating_difference_interval'] = le.fit_transform(final_df['rating_difference_interval'])\n",
    "final_df['winner'] = le.fit_transform(final_df['winner'])\n",
    "#final_df['moves_interval'] = le.fit_transform(final_df['moves_interval'])\n",
    "\n",
    "final_df.head(5)"
   ]
  },
  {
   "cell_type": "code",
   "execution_count": 43,
   "metadata": {},
   "outputs": [],
   "source": [
    "new_X = final_df.drop(columns = ['winner', 'moves_interval'])\n",
    "new_y = final_df['winner'].copy()"
   ]
  },
  {
   "cell_type": "code",
   "execution_count": 44,
   "metadata": {},
   "outputs": [],
   "source": [
    "from sklearn.model_selection import train_test_split\n",
    "X_train, X_test, y_train, y_test = train_test_split(new_X, new_y, test_size=0.3, random_state=1, stratify=new_y)"
   ]
  },
  {
   "cell_type": "code",
   "execution_count": 45,
   "metadata": {},
   "outputs": [
    {
     "name": "stdout",
     "output_type": "stream",
     "text": [
      "Labels counts in y: [5163  499 5733]\n",
      "Labels counts in y_train: [3614  349 4013]\n",
      "Labels counts in y_test: [1549  150 1720]\n"
     ]
    }
   ],
   "source": [
    "print('Labels counts in y:', np.bincount(new_y))\n",
    "print('Labels counts in y_train:', np.bincount(y_train))\n",
    "print('Labels counts in y_test:', np.bincount(y_test))\n"
   ]
  },
  {
   "cell_type": "code",
   "execution_count": 46,
   "metadata": {},
   "outputs": [
    {
     "ename": "ValueError",
     "evalue": "X must be a NumPy array. Found <class 'pandas.core.frame.DataFrame'>",
     "output_type": "error",
     "traceback": [
      "\u001b[1;31m---------------------------------------------------------------------------\u001b[0m",
      "\u001b[1;31mValueError\u001b[0m                                Traceback (most recent call last)",
      "\u001b[1;32m<ipython-input-46-1eceb1c034dc>\u001b[0m in \u001b[0;36m<module>\u001b[1;34m\u001b[0m\n\u001b[0;32m      6\u001b[0m \u001b[0mtree\u001b[0m \u001b[1;33m=\u001b[0m \u001b[0mDecisionTreeClassifier\u001b[0m\u001b[1;33m(\u001b[0m\u001b[0mcriterion\u001b[0m\u001b[1;33m=\u001b[0m\u001b[1;34m'entropy'\u001b[0m\u001b[1;33m,\u001b[0m \u001b[0mmax_depth\u001b[0m\u001b[1;33m=\u001b[0m\u001b[1;36m2\u001b[0m\u001b[1;33m,\u001b[0m \u001b[0mrandom_state\u001b[0m\u001b[1;33m=\u001b[0m\u001b[1;36m1\u001b[0m\u001b[1;33m)\u001b[0m\u001b[1;33m\u001b[0m\u001b[1;33m\u001b[0m\u001b[0m\n\u001b[0;32m      7\u001b[0m \u001b[1;33m\u001b[0m\u001b[0m\n\u001b[1;32m----> 8\u001b[1;33m \u001b[0mplot_decision_regions\u001b[0m\u001b[1;33m(\u001b[0m\u001b[0mX_train\u001b[0m\u001b[1;33m,\u001b[0m \u001b[0my_train\u001b[0m\u001b[1;33m,\u001b[0m \u001b[0mtree\u001b[0m\u001b[1;33m)\u001b[0m\u001b[1;33m\u001b[0m\u001b[1;33m\u001b[0m\u001b[0m\n\u001b[0m\u001b[0;32m      9\u001b[0m \u001b[0mplt\u001b[0m\u001b[1;33m.\u001b[0m\u001b[0mxlabel\u001b[0m\u001b[1;33m(\u001b[0m\u001b[1;34m'petal length [cm]'\u001b[0m\u001b[1;33m)\u001b[0m\u001b[1;33m\u001b[0m\u001b[1;33m\u001b[0m\u001b[0m\n\u001b[0;32m     10\u001b[0m \u001b[0mplt\u001b[0m\u001b[1;33m.\u001b[0m\u001b[0mylabel\u001b[0m\u001b[1;33m(\u001b[0m\u001b[1;34m'petal width [cm]'\u001b[0m\u001b[1;33m)\u001b[0m\u001b[1;33m\u001b[0m\u001b[1;33m\u001b[0m\u001b[0m\n",
      "\u001b[1;32m~\\anaconda3\\lib\\site-packages\\mlxtend\\plotting\\decision_regions.py\u001b[0m in \u001b[0;36mplot_decision_regions\u001b[1;34m(X, y, clf, feature_index, filler_feature_values, filler_feature_ranges, ax, X_highlight, res, zoom_factor, legend, hide_spines, markers, colors, scatter_kwargs, contourf_kwargs, scatter_highlight_kwargs)\u001b[0m\n\u001b[0;32m    130\u001b[0m     \"\"\"\n\u001b[0;32m    131\u001b[0m \u001b[1;33m\u001b[0m\u001b[0m\n\u001b[1;32m--> 132\u001b[1;33m     \u001b[0mcheck_Xy\u001b[0m\u001b[1;33m(\u001b[0m\u001b[0mX\u001b[0m\u001b[1;33m,\u001b[0m \u001b[0my\u001b[0m\u001b[1;33m,\u001b[0m \u001b[0my_int\u001b[0m\u001b[1;33m=\u001b[0m\u001b[1;32mTrue\u001b[0m\u001b[1;33m)\u001b[0m  \u001b[1;31m# Validate X and y arrays\u001b[0m\u001b[1;33m\u001b[0m\u001b[1;33m\u001b[0m\u001b[0m\n\u001b[0m\u001b[0;32m    133\u001b[0m     \u001b[0mdim\u001b[0m \u001b[1;33m=\u001b[0m \u001b[0mX\u001b[0m\u001b[1;33m.\u001b[0m\u001b[0mshape\u001b[0m\u001b[1;33m[\u001b[0m\u001b[1;36m1\u001b[0m\u001b[1;33m]\u001b[0m\u001b[1;33m\u001b[0m\u001b[1;33m\u001b[0m\u001b[0m\n\u001b[0;32m    134\u001b[0m \u001b[1;33m\u001b[0m\u001b[0m\n",
      "\u001b[1;32m~\\anaconda3\\lib\\site-packages\\mlxtend\\utils\\checking.py\u001b[0m in \u001b[0;36mcheck_Xy\u001b[1;34m(X, y, y_int)\u001b[0m\n\u001b[0;32m     14\u001b[0m     \u001b[1;31m# check types\u001b[0m\u001b[1;33m\u001b[0m\u001b[1;33m\u001b[0m\u001b[1;33m\u001b[0m\u001b[0m\n\u001b[0;32m     15\u001b[0m     \u001b[1;32mif\u001b[0m \u001b[1;32mnot\u001b[0m \u001b[0misinstance\u001b[0m\u001b[1;33m(\u001b[0m\u001b[0mX\u001b[0m\u001b[1;33m,\u001b[0m \u001b[0mnp\u001b[0m\u001b[1;33m.\u001b[0m\u001b[0mndarray\u001b[0m\u001b[1;33m)\u001b[0m\u001b[1;33m:\u001b[0m\u001b[1;33m\u001b[0m\u001b[1;33m\u001b[0m\u001b[0m\n\u001b[1;32m---> 16\u001b[1;33m         \u001b[1;32mraise\u001b[0m \u001b[0mValueError\u001b[0m\u001b[1;33m(\u001b[0m\u001b[1;34m'X must be a NumPy array. Found %s'\u001b[0m \u001b[1;33m%\u001b[0m \u001b[0mtype\u001b[0m\u001b[1;33m(\u001b[0m\u001b[0mX\u001b[0m\u001b[1;33m)\u001b[0m\u001b[1;33m)\u001b[0m\u001b[1;33m\u001b[0m\u001b[1;33m\u001b[0m\u001b[0m\n\u001b[0m\u001b[0;32m     17\u001b[0m     \u001b[1;32mif\u001b[0m \u001b[1;32mnot\u001b[0m \u001b[0misinstance\u001b[0m\u001b[1;33m(\u001b[0m\u001b[0my\u001b[0m\u001b[1;33m,\u001b[0m \u001b[0mnp\u001b[0m\u001b[1;33m.\u001b[0m\u001b[0mndarray\u001b[0m\u001b[1;33m)\u001b[0m\u001b[1;33m:\u001b[0m\u001b[1;33m\u001b[0m\u001b[1;33m\u001b[0m\u001b[0m\n\u001b[0;32m     18\u001b[0m         \u001b[1;32mraise\u001b[0m \u001b[0mValueError\u001b[0m\u001b[1;33m(\u001b[0m\u001b[1;34m'y must be a NumPy array. Found %s'\u001b[0m \u001b[1;33m%\u001b[0m \u001b[0mtype\u001b[0m\u001b[1;33m(\u001b[0m\u001b[0my\u001b[0m\u001b[1;33m)\u001b[0m\u001b[1;33m)\u001b[0m\u001b[1;33m\u001b[0m\u001b[1;33m\u001b[0m\u001b[0m\n",
      "\u001b[1;31mValueError\u001b[0m: X must be a NumPy array. Found <class 'pandas.core.frame.DataFrame'>"
     ]
    }
   ],
   "source": [
    "%matplotlib inline\n",
    "import matplotlib.pyplot as plt\n",
    "from sklearn.tree import DecisionTreeClassifier\n",
    "from mlxtend.plotting import plot_decision_regions\n",
    "\n",
    "tree = DecisionTreeClassifier(criterion='entropy', max_depth=2, random_state=1)\n",
    "\n",
    "plot_decision_regions(X_train, y_train, tree)\n",
    "plt.xlabel('petal length [cm]')\n",
    "plt.ylabel('petal width [cm]')\n",
    "plt.legend(loc='upper left')\n",
    "plt.tight_layout()\n",
    "plt.savefig('images/sklearn_tree.png', dpi=300)\n",
    "plt.savefig('images/sklearn_tree.pdf')\n",
    "plt.show()\n"
   ]
  },
  {
   "cell_type": "code",
   "execution_count": null,
   "metadata": {},
   "outputs": [],
   "source": []
  }
 ],
 "metadata": {
  "kernelspec": {
   "display_name": "Python 3",
   "language": "python",
   "name": "python3"
  },
  "language_info": {
   "codemirror_mode": {
    "name": "ipython",
    "version": 3
   },
   "file_extension": ".py",
   "mimetype": "text/x-python",
   "name": "python",
   "nbconvert_exporter": "python",
   "pygments_lexer": "ipython3",
   "version": "3.8.3"
  }
 },
 "nbformat": 4,
 "nbformat_minor": 4
}
